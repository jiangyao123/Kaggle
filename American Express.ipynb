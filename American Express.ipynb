{
 "cells": [
  {
   "cell_type": "code",
   "execution_count": 2,
   "id": "d5e1271c",
   "metadata": {},
   "outputs": [
    {
     "name": "stderr",
     "output_type": "stream",
     "text": [
      "/Users/caroline/opt/anaconda3/lib/python3.9/site-packages/xgboost/compat.py:36: FutureWarning: pandas.Int64Index is deprecated and will be removed from pandas in a future version. Use pandas.Index with the appropriate dtype instead.\n",
      "  from pandas import MultiIndex, Int64Index\n"
     ]
    }
   ],
   "source": [
    "from sklearn.model_selection import train_test_split,cross_val_score,KFold\n",
    "from sklearn.feature_selection import SelectFromModel\n",
    "import pandas as pd\n",
    "import matplotlib.pyplot as plt\n",
    "from xgboost import XGBRegressor as XGBR"
   ]
  },
  {
   "cell_type": "code",
   "execution_count": 3,
   "id": "9e7cc1d7",
   "metadata": {},
   "outputs": [
    {
     "name": "stdout",
     "output_type": "stream",
     "text": [
      "CPU times: user 7.01 s, sys: 1.64 s, total: 8.66 s\n",
      "Wall time: 12.5 s\n"
     ]
    }
   ],
   "source": [
    "%%time\n",
    "train_data = pd.read_parquet('/Users/caroline/Downloads/train_data.parquet')"
   ]
  },
  {
   "cell_type": "code",
   "execution_count": 4,
   "id": "9bdd58a7",
   "metadata": {},
   "outputs": [
    {
     "name": "stdout",
     "output_type": "stream",
     "text": [
      "CPU times: user 9.62 s, sys: 2.98 s, total: 12.6 s\n",
      "Wall time: 28.8 s\n"
     ]
    },
    {
     "data": {
      "text/plain": [
       "Index(['customer_ID', 'S_2', 'P_2', 'D_39', 'B_1', 'B_2', 'R_1', 'S_3', 'D_41',\n",
       "       'B_3',\n",
       "       ...\n",
       "       'D_136', 'D_137', 'D_138', 'D_139', 'D_140', 'D_141', 'D_142', 'D_143',\n",
       "       'D_144', 'D_145'],\n",
       "      dtype='object', length=190)"
      ]
     },
     "execution_count": 4,
     "metadata": {},
     "output_type": "execute_result"
    }
   ],
   "source": [
    "%%time\n",
    "test_data = pd.read_parquet('/Users/caroline/Downloads/test_data.parquet')\n",
    "test_data.columns"
   ]
  },
  {
   "cell_type": "code",
   "execution_count": 5,
   "id": "8b6ef3d8",
   "metadata": {},
   "outputs": [
    {
     "data": {
      "text/html": [
       "<div>\n",
       "<style scoped>\n",
       "    .dataframe tbody tr th:only-of-type {\n",
       "        vertical-align: middle;\n",
       "    }\n",
       "\n",
       "    .dataframe tbody tr th {\n",
       "        vertical-align: top;\n",
       "    }\n",
       "\n",
       "    .dataframe thead th {\n",
       "        text-align: right;\n",
       "    }\n",
       "</style>\n",
       "<table border=\"1\" class=\"dataframe\">\n",
       "  <thead>\n",
       "    <tr style=\"text-align: right;\">\n",
       "      <th></th>\n",
       "      <th>customer_ID</th>\n",
       "      <th>S_2_x</th>\n",
       "      <th>P_2_x</th>\n",
       "      <th>D_39_x</th>\n",
       "      <th>B_1_x</th>\n",
       "      <th>B_2_x</th>\n",
       "      <th>R_1_x</th>\n",
       "      <th>S_3_x</th>\n",
       "      <th>D_41_x</th>\n",
       "      <th>B_3_x</th>\n",
       "      <th>...</th>\n",
       "      <th>D_137_y</th>\n",
       "      <th>D_138_y</th>\n",
       "      <th>D_139_y</th>\n",
       "      <th>D_140_y</th>\n",
       "      <th>D_141_y</th>\n",
       "      <th>D_142_y</th>\n",
       "      <th>D_143_y</th>\n",
       "      <th>D_144_y</th>\n",
       "      <th>D_145_y</th>\n",
       "      <th>target_y</th>\n",
       "    </tr>\n",
       "  </thead>\n",
       "  <tbody>\n",
       "    <tr>\n",
       "      <th>0</th>\n",
       "      <td>0000099d6bd597052cdcda90ffabf56573fe9d7c79be5f...</td>\n",
       "      <td>2018-03-13</td>\n",
       "      <td>0.934745</td>\n",
       "      <td>0.009119</td>\n",
       "      <td>0.009382</td>\n",
       "      <td>1.007647</td>\n",
       "      <td>0.006104</td>\n",
       "      <td>0.135021</td>\n",
       "      <td>0.001604</td>\n",
       "      <td>0.007174</td>\n",
       "      <td>...</td>\n",
       "      <td>NaN</td>\n",
       "      <td>NaN</td>\n",
       "      <td>0.007186</td>\n",
       "      <td>0.004234</td>\n",
       "      <td>0.005086</td>\n",
       "      <td>NaN</td>\n",
       "      <td>0.005810</td>\n",
       "      <td>0.002970</td>\n",
       "      <td>0.008533</td>\n",
       "      <td>0.0</td>\n",
       "    </tr>\n",
       "    <tr>\n",
       "      <th>1</th>\n",
       "      <td>00000fd6641609c6ece5454664794f0340ad84dddce9a2...</td>\n",
       "      <td>2018-03-25</td>\n",
       "      <td>0.880519</td>\n",
       "      <td>0.178126</td>\n",
       "      <td>0.034684</td>\n",
       "      <td>1.004028</td>\n",
       "      <td>0.006911</td>\n",
       "      <td>0.165509</td>\n",
       "      <td>0.005552</td>\n",
       "      <td>0.005068</td>\n",
       "      <td>...</td>\n",
       "      <td>NaN</td>\n",
       "      <td>NaN</td>\n",
       "      <td>0.002980</td>\n",
       "      <td>0.007479</td>\n",
       "      <td>0.007870</td>\n",
       "      <td>NaN</td>\n",
       "      <td>0.003284</td>\n",
       "      <td>0.003169</td>\n",
       "      <td>0.008514</td>\n",
       "      <td>0.0</td>\n",
       "    </tr>\n",
       "    <tr>\n",
       "      <th>2</th>\n",
       "      <td>00001b22f846c82c51f6e3958ccd81970162bae8b007e8...</td>\n",
       "      <td>2018-03-12</td>\n",
       "      <td>0.880875</td>\n",
       "      <td>0.009704</td>\n",
       "      <td>0.004284</td>\n",
       "      <td>0.812649</td>\n",
       "      <td>0.006450</td>\n",
       "      <td>NaN</td>\n",
       "      <td>0.003796</td>\n",
       "      <td>0.007196</td>\n",
       "      <td>...</td>\n",
       "      <td>NaN</td>\n",
       "      <td>NaN</td>\n",
       "      <td>0.007383</td>\n",
       "      <td>0.006623</td>\n",
       "      <td>0.000964</td>\n",
       "      <td>NaN</td>\n",
       "      <td>0.002202</td>\n",
       "      <td>0.000834</td>\n",
       "      <td>0.003444</td>\n",
       "      <td>0.0</td>\n",
       "    </tr>\n",
       "    <tr>\n",
       "      <th>3</th>\n",
       "      <td>000041bdba6ecadd89a52d11886e8eaaec9325906c9723...</td>\n",
       "      <td>2018-03-29</td>\n",
       "      <td>0.621776</td>\n",
       "      <td>0.001083</td>\n",
       "      <td>0.012564</td>\n",
       "      <td>1.006183</td>\n",
       "      <td>0.007829</td>\n",
       "      <td>0.287766</td>\n",
       "      <td>0.004532</td>\n",
       "      <td>0.009937</td>\n",
       "      <td>...</td>\n",
       "      <td>NaN</td>\n",
       "      <td>NaN</td>\n",
       "      <td>0.002704</td>\n",
       "      <td>0.006184</td>\n",
       "      <td>0.001899</td>\n",
       "      <td>NaN</td>\n",
       "      <td>0.008183</td>\n",
       "      <td>0.005560</td>\n",
       "      <td>0.002983</td>\n",
       "      <td>0.0</td>\n",
       "    </tr>\n",
       "    <tr>\n",
       "      <th>4</th>\n",
       "      <td>00007889e4fcd2614b6cbe7f8f3d2e5c728eca32d9eb8a...</td>\n",
       "      <td>2018-03-30</td>\n",
       "      <td>0.871900</td>\n",
       "      <td>0.005573</td>\n",
       "      <td>0.007679</td>\n",
       "      <td>0.815746</td>\n",
       "      <td>0.001247</td>\n",
       "      <td>NaN</td>\n",
       "      <td>0.000231</td>\n",
       "      <td>0.005528</td>\n",
       "      <td>...</td>\n",
       "      <td>NaN</td>\n",
       "      <td>NaN</td>\n",
       "      <td>0.002974</td>\n",
       "      <td>0.004162</td>\n",
       "      <td>0.005764</td>\n",
       "      <td>NaN</td>\n",
       "      <td>0.008154</td>\n",
       "      <td>0.006944</td>\n",
       "      <td>0.000905</td>\n",
       "      <td>0.0</td>\n",
       "    </tr>\n",
       "  </tbody>\n",
       "</table>\n",
       "<p>5 rows × 381 columns</p>\n",
       "</div>"
      ],
      "text/plain": [
       "                                         customer_ID       S_2_x     P_2_x  \\\n",
       "0  0000099d6bd597052cdcda90ffabf56573fe9d7c79be5f...  2018-03-13  0.934745   \n",
       "1  00000fd6641609c6ece5454664794f0340ad84dddce9a2...  2018-03-25  0.880519   \n",
       "2  00001b22f846c82c51f6e3958ccd81970162bae8b007e8...  2018-03-12  0.880875   \n",
       "3  000041bdba6ecadd89a52d11886e8eaaec9325906c9723...  2018-03-29  0.621776   \n",
       "4  00007889e4fcd2614b6cbe7f8f3d2e5c728eca32d9eb8a...  2018-03-30  0.871900   \n",
       "\n",
       "     D_39_x     B_1_x     B_2_x     R_1_x     S_3_x    D_41_x     B_3_x  ...  \\\n",
       "0  0.009119  0.009382  1.007647  0.006104  0.135021  0.001604  0.007174  ...   \n",
       "1  0.178126  0.034684  1.004028  0.006911  0.165509  0.005552  0.005068  ...   \n",
       "2  0.009704  0.004284  0.812649  0.006450       NaN  0.003796  0.007196  ...   \n",
       "3  0.001083  0.012564  1.006183  0.007829  0.287766  0.004532  0.009937  ...   \n",
       "4  0.005573  0.007679  0.815746  0.001247       NaN  0.000231  0.005528  ...   \n",
       "\n",
       "   D_137_y  D_138_y   D_139_y   D_140_y   D_141_y  D_142_y   D_143_y  \\\n",
       "0      NaN      NaN  0.007186  0.004234  0.005086      NaN  0.005810   \n",
       "1      NaN      NaN  0.002980  0.007479  0.007870      NaN  0.003284   \n",
       "2      NaN      NaN  0.007383  0.006623  0.000964      NaN  0.002202   \n",
       "3      NaN      NaN  0.002704  0.006184  0.001899      NaN  0.008183   \n",
       "4      NaN      NaN  0.002974  0.004162  0.005764      NaN  0.008154   \n",
       "\n",
       "    D_144_y   D_145_y  target_y  \n",
       "0  0.002970  0.008533       0.0  \n",
       "1  0.003169  0.008514       0.0  \n",
       "2  0.000834  0.003444       0.0  \n",
       "3  0.005560  0.002983       0.0  \n",
       "4  0.006944  0.000905       0.0  \n",
       "\n",
       "[5 rows x 381 columns]"
      ]
     },
     "execution_count": 5,
     "metadata": {},
     "output_type": "execute_result"
    }
   ],
   "source": [
    "train_data = train_data.groupby('customer_ID').tail(2)\n",
    "train_data_1 = train_data.groupby('customer_ID').tail(1)\n",
    "# train_data_1.S_2= 1\n",
    "train_data_2 = train_data.groupby('customer_ID').tail(-1)\n",
    "# train_data_2.S_2= 0\n",
    "train_data = pd.merge(train_data_1,train_data_2,how='left',on='customer_ID')\n",
    "train_data.head()"
   ]
  },
  {
   "cell_type": "code",
   "execution_count": 6,
   "id": "c5f38771",
   "metadata": {},
   "outputs": [],
   "source": [
    "train_traget = train_data.target_x\n",
    "train_data = train_data.drop(columns=['S_2_x','S_2_y','target_x','target_y'])\n",
    "train_data['target'] = train_traget"
   ]
  },
  {
   "cell_type": "code",
   "execution_count": 7,
   "id": "5aec685a",
   "metadata": {},
   "outputs": [
    {
     "data": {
      "text/html": [
       "<div>\n",
       "<style scoped>\n",
       "    .dataframe tbody tr th:only-of-type {\n",
       "        vertical-align: middle;\n",
       "    }\n",
       "\n",
       "    .dataframe tbody tr th {\n",
       "        vertical-align: top;\n",
       "    }\n",
       "\n",
       "    .dataframe thead th {\n",
       "        text-align: right;\n",
       "    }\n",
       "</style>\n",
       "<table border=\"1\" class=\"dataframe\">\n",
       "  <thead>\n",
       "    <tr style=\"text-align: right;\">\n",
       "      <th></th>\n",
       "      <th>customer_ID</th>\n",
       "      <th>S_2_x</th>\n",
       "      <th>P_2_x</th>\n",
       "      <th>D_39_x</th>\n",
       "      <th>B_1_x</th>\n",
       "      <th>B_2_x</th>\n",
       "      <th>R_1_x</th>\n",
       "      <th>S_3_x</th>\n",
       "      <th>D_41_x</th>\n",
       "      <th>B_3_x</th>\n",
       "      <th>...</th>\n",
       "      <th>D_136_y</th>\n",
       "      <th>D_137_y</th>\n",
       "      <th>D_138_y</th>\n",
       "      <th>D_139_y</th>\n",
       "      <th>D_140_y</th>\n",
       "      <th>D_141_y</th>\n",
       "      <th>D_142_y</th>\n",
       "      <th>D_143_y</th>\n",
       "      <th>D_144_y</th>\n",
       "      <th>D_145_y</th>\n",
       "    </tr>\n",
       "  </thead>\n",
       "  <tbody>\n",
       "    <tr>\n",
       "      <th>0</th>\n",
       "      <td>00000469ba478561f23a92a868bd366de6f6527a684c9a...</td>\n",
       "      <td>2019-10-12</td>\n",
       "      <td>0.568930</td>\n",
       "      <td>0.121385</td>\n",
       "      <td>0.010779</td>\n",
       "      <td>1.009347</td>\n",
       "      <td>0.006923</td>\n",
       "      <td>0.149413</td>\n",
       "      <td>0.000396</td>\n",
       "      <td>0.003576</td>\n",
       "      <td>...</td>\n",
       "      <td>NaN</td>\n",
       "      <td>NaN</td>\n",
       "      <td>NaN</td>\n",
       "      <td>0.005912</td>\n",
       "      <td>0.001250</td>\n",
       "      <td>0.006543</td>\n",
       "      <td>NaN</td>\n",
       "      <td>0.009160</td>\n",
       "      <td>0.003690</td>\n",
       "      <td>0.003219</td>\n",
       "    </tr>\n",
       "    <tr>\n",
       "      <th>1</th>\n",
       "      <td>00001bf2e77ff879fab36aa4fac689b9ba411dae63ae39...</td>\n",
       "      <td>2019-04-15</td>\n",
       "      <td>0.841177</td>\n",
       "      <td>0.126475</td>\n",
       "      <td>0.016562</td>\n",
       "      <td>1.009245</td>\n",
       "      <td>0.009715</td>\n",
       "      <td>0.112195</td>\n",
       "      <td>0.006192</td>\n",
       "      <td>0.011386</td>\n",
       "      <td>...</td>\n",
       "      <td>NaN</td>\n",
       "      <td>NaN</td>\n",
       "      <td>NaN</td>\n",
       "      <td>0.004344</td>\n",
       "      <td>0.000866</td>\n",
       "      <td>0.009120</td>\n",
       "      <td>NaN</td>\n",
       "      <td>0.002196</td>\n",
       "      <td>0.000247</td>\n",
       "      <td>0.007780</td>\n",
       "    </tr>\n",
       "    <tr>\n",
       "      <th>2</th>\n",
       "      <td>0000210045da4f81e5f122c6bde5c2a617d03eef67f82c...</td>\n",
       "      <td>2019-10-16</td>\n",
       "      <td>0.697522</td>\n",
       "      <td>0.002724</td>\n",
       "      <td>0.001484</td>\n",
       "      <td>0.810072</td>\n",
       "      <td>0.002620</td>\n",
       "      <td>0.166165</td>\n",
       "      <td>0.004888</td>\n",
       "      <td>0.015938</td>\n",
       "      <td>...</td>\n",
       "      <td>NaN</td>\n",
       "      <td>NaN</td>\n",
       "      <td>NaN</td>\n",
       "      <td>1.001246</td>\n",
       "      <td>0.008894</td>\n",
       "      <td>0.896224</td>\n",
       "      <td>0.150203</td>\n",
       "      <td>1.009391</td>\n",
       "      <td>0.457819</td>\n",
       "      <td>0.092041</td>\n",
       "    </tr>\n",
       "    <tr>\n",
       "      <th>3</th>\n",
       "      <td>00003b41e58ede33b8daf61ab56d9952f17c9ad1c3976c...</td>\n",
       "      <td>2019-04-22</td>\n",
       "      <td>0.513186</td>\n",
       "      <td>0.324828</td>\n",
       "      <td>0.149511</td>\n",
       "      <td>0.205678</td>\n",
       "      <td>0.002278</td>\n",
       "      <td>0.181200</td>\n",
       "      <td>0.005813</td>\n",
       "      <td>0.498516</td>\n",
       "      <td>...</td>\n",
       "      <td>NaN</td>\n",
       "      <td>NaN</td>\n",
       "      <td>NaN</td>\n",
       "      <td>1.008246</td>\n",
       "      <td>0.003753</td>\n",
       "      <td>0.919774</td>\n",
       "      <td>0.255263</td>\n",
       "      <td>1.008101</td>\n",
       "      <td>0.500924</td>\n",
       "      <td>0.183020</td>\n",
       "    </tr>\n",
       "    <tr>\n",
       "      <th>4</th>\n",
       "      <td>00004b22eaeeeb0ec976890c1d9bfc14fd9427e98c4ee9...</td>\n",
       "      <td>2019-10-22</td>\n",
       "      <td>0.254478</td>\n",
       "      <td>0.768016</td>\n",
       "      <td>0.563603</td>\n",
       "      <td>0.038021</td>\n",
       "      <td>0.503154</td>\n",
       "      <td>0.168317</td>\n",
       "      <td>0.009480</td>\n",
       "      <td>0.830857</td>\n",
       "      <td>...</td>\n",
       "      <td>NaN</td>\n",
       "      <td>NaN</td>\n",
       "      <td>NaN</td>\n",
       "      <td>0.006623</td>\n",
       "      <td>0.001140</td>\n",
       "      <td>0.009527</td>\n",
       "      <td>NaN</td>\n",
       "      <td>0.009408</td>\n",
       "      <td>0.001558</td>\n",
       "      <td>0.000525</td>\n",
       "    </tr>\n",
       "  </tbody>\n",
       "</table>\n",
       "<p>5 rows × 379 columns</p>\n",
       "</div>"
      ],
      "text/plain": [
       "                                         customer_ID       S_2_x     P_2_x  \\\n",
       "0  00000469ba478561f23a92a868bd366de6f6527a684c9a...  2019-10-12  0.568930   \n",
       "1  00001bf2e77ff879fab36aa4fac689b9ba411dae63ae39...  2019-04-15  0.841177   \n",
       "2  0000210045da4f81e5f122c6bde5c2a617d03eef67f82c...  2019-10-16  0.697522   \n",
       "3  00003b41e58ede33b8daf61ab56d9952f17c9ad1c3976c...  2019-04-22  0.513186   \n",
       "4  00004b22eaeeeb0ec976890c1d9bfc14fd9427e98c4ee9...  2019-10-22  0.254478   \n",
       "\n",
       "     D_39_x     B_1_x     B_2_x     R_1_x     S_3_x    D_41_x     B_3_x  ...  \\\n",
       "0  0.121385  0.010779  1.009347  0.006923  0.149413  0.000396  0.003576  ...   \n",
       "1  0.126475  0.016562  1.009245  0.009715  0.112195  0.006192  0.011386  ...   \n",
       "2  0.002724  0.001484  0.810072  0.002620  0.166165  0.004888  0.015938  ...   \n",
       "3  0.324828  0.149511  0.205678  0.002278  0.181200  0.005813  0.498516  ...   \n",
       "4  0.768016  0.563603  0.038021  0.503154  0.168317  0.009480  0.830857  ...   \n",
       "\n",
       "   D_136_y  D_137_y  D_138_y   D_139_y   D_140_y   D_141_y   D_142_y  \\\n",
       "0      NaN      NaN      NaN  0.005912  0.001250  0.006543       NaN   \n",
       "1      NaN      NaN      NaN  0.004344  0.000866  0.009120       NaN   \n",
       "2      NaN      NaN      NaN  1.001246  0.008894  0.896224  0.150203   \n",
       "3      NaN      NaN      NaN  1.008246  0.003753  0.919774  0.255263   \n",
       "4      NaN      NaN      NaN  0.006623  0.001140  0.009527       NaN   \n",
       "\n",
       "    D_143_y   D_144_y   D_145_y  \n",
       "0  0.009160  0.003690  0.003219  \n",
       "1  0.002196  0.000247  0.007780  \n",
       "2  1.009391  0.457819  0.092041  \n",
       "3  1.008101  0.500924  0.183020  \n",
       "4  0.009408  0.001558  0.000525  \n",
       "\n",
       "[5 rows x 379 columns]"
      ]
     },
     "execution_count": 7,
     "metadata": {},
     "output_type": "execute_result"
    }
   ],
   "source": [
    "test_data = test_data.groupby('customer_ID').tail(2)\n",
    "test_data_1 = test_data.groupby('customer_ID').tail(1)\n",
    "test_data_2 = test_data.groupby('customer_ID').tail(-1)\n",
    "test_data = pd.merge(test_data_1,test_data_2,how='left',on='customer_ID')\n",
    "test_data.head()"
   ]
  },
  {
   "cell_type": "code",
   "execution_count": 8,
   "id": "156485dc",
   "metadata": {},
   "outputs": [],
   "source": [
    "test_data = test_data.drop(columns=['S_2_x','S_2_y'])"
   ]
  },
  {
   "cell_type": "code",
   "execution_count": 9,
   "id": "fae96a53",
   "metadata": {},
   "outputs": [
    {
     "data": {
      "text/plain": [
       "(458913, 378)"
      ]
     },
     "execution_count": 9,
     "metadata": {},
     "output_type": "execute_result"
    }
   ],
   "source": [
    "train_data.shape"
   ]
  },
  {
   "cell_type": "code",
   "execution_count": 10,
   "id": "e610566a",
   "metadata": {},
   "outputs": [
    {
     "data": {
      "text/plain": [
       "(924621, 377)"
      ]
     },
     "execution_count": 10,
     "metadata": {},
     "output_type": "execute_result"
    }
   ],
   "source": [
    "test_data.shape"
   ]
  },
  {
   "cell_type": "code",
   "execution_count": null,
   "id": "1f06e42c",
   "metadata": {},
   "outputs": [],
   "source": [
    "# train_data = train_data.drop(columns=['S_2'])"
   ]
  },
  {
   "cell_type": "code",
   "execution_count": 11,
   "id": "5fdfa943",
   "metadata": {},
   "outputs": [],
   "source": [
    "#缺失值大于90%的特征舍弃\n",
    "train_data = train_data.dropna(axis=1, thresh=int(0.90*len(train_data)))"
   ]
  },
  {
   "cell_type": "code",
   "execution_count": 12,
   "id": "b1d68fb8",
   "metadata": {},
   "outputs": [
    {
     "data": {
      "text/plain": [
       "(458913, 300)"
      ]
     },
     "execution_count": 12,
     "metadata": {},
     "output_type": "execute_result"
    }
   ],
   "source": [
    "train_data.shape"
   ]
  },
  {
   "cell_type": "code",
   "execution_count": 13,
   "id": "e948bb96",
   "metadata": {},
   "outputs": [],
   "source": [
    "features = list(train_data.columns)\n",
    "features.remove('target')"
   ]
  },
  {
   "cell_type": "code",
   "execution_count": 14,
   "id": "77ac7b7c",
   "metadata": {},
   "outputs": [],
   "source": [
    "test_features = list(test_data.columns)\n",
    "drop_features = list(set(test_features).difference(set(features)))"
   ]
  },
  {
   "cell_type": "code",
   "execution_count": 15,
   "id": "94d73523",
   "metadata": {},
   "outputs": [],
   "source": [
    "test_data = test_data.drop(columns = drop_features)"
   ]
  },
  {
   "cell_type": "code",
   "execution_count": 16,
   "id": "230611f8",
   "metadata": {},
   "outputs": [
    {
     "data": {
      "text/plain": [
       "(924621, 299)"
      ]
     },
     "execution_count": 16,
     "metadata": {},
     "output_type": "execute_result"
    }
   ],
   "source": [
    "test_data.shape"
   ]
  },
  {
   "cell_type": "code",
   "execution_count": 17,
   "id": "a0181e13",
   "metadata": {},
   "outputs": [
    {
     "data": {
      "text/plain": [
       "Index(['customer_ID', 'P_2_x', 'D_39_x', 'B_1_x', 'B_2_x', 'R_1_x', 'D_41_x',\n",
       "       'B_3_x', 'D_44_x', 'B_4_x',\n",
       "       ...\n",
       "       'D_131_y', 'D_133_y', 'R_28_y', 'D_139_y', 'D_140_y', 'D_141_y',\n",
       "       'D_143_y', 'D_144_y', 'D_145_y', 'target'],\n",
       "      dtype='object', length=300)"
      ]
     },
     "execution_count": 17,
     "metadata": {},
     "output_type": "execute_result"
    }
   ],
   "source": [
    "train_data.columns"
   ]
  },
  {
   "cell_type": "code",
   "execution_count": 18,
   "id": "e49d436b",
   "metadata": {},
   "outputs": [
    {
     "data": {
      "text/plain": [
       "Index(['customer_ID', 'P_2_x', 'D_39_x', 'B_1_x', 'B_2_x', 'R_1_x', 'D_41_x',\n",
       "       'B_3_x', 'D_44_x', 'B_4_x',\n",
       "       ...\n",
       "       'D_130_y', 'D_131_y', 'D_133_y', 'R_28_y', 'D_139_y', 'D_140_y',\n",
       "       'D_141_y', 'D_143_y', 'D_144_y', 'D_145_y'],\n",
       "      dtype='object', length=299)"
      ]
     },
     "execution_count": 18,
     "metadata": {},
     "output_type": "execute_result"
    }
   ],
   "source": [
    "test_data.columns"
   ]
  },
  {
   "cell_type": "code",
   "execution_count": 19,
   "id": "198c62f5",
   "metadata": {},
   "outputs": [
    {
     "data": {
      "text/plain": [
       "(1383534, 300)"
      ]
     },
     "execution_count": 19,
     "metadata": {},
     "output_type": "execute_result"
    }
   ],
   "source": [
    "import pandas as pd\n",
    "df = pd.concat([train_data,test_data])\n",
    "df.shape"
   ]
  },
  {
   "cell_type": "code",
   "execution_count": 20,
   "id": "674689da",
   "metadata": {},
   "outputs": [
    {
     "data": {
      "text/plain": [
       "customer_ID         0\n",
       "P_2_x            7753\n",
       "D_39_x              0\n",
       "B_1_x               0\n",
       "B_2_x              74\n",
       "R_1_x               0\n",
       "D_41_x             74\n",
       "B_3_x              74\n",
       "D_44_x          66907\n",
       "B_4_x               0\n",
       "D_45_x             76\n",
       "B_5_x               0\n",
       "R_2_x               0\n",
       "D_47_x              0\n",
       "B_6_x             178\n",
       "B_7_x               0\n",
       "B_8_x           16475\n",
       "D_51_x              0\n",
       "B_9_x               0\n",
       "R_3_x               0\n",
       "D_52_x           3449\n",
       "P_3_x           52680\n",
       "B_10_x              0\n",
       "S_5_x               0\n",
       "B_11_x              0\n",
       "S_6_x               0\n",
       "D_54_x             74\n",
       "R_4_x               0\n",
       "B_12_x              0\n",
       "S_8_x               0\n",
       "D_55_x          90815\n",
       "B_13_x           3573\n",
       "R_5_x               0\n",
       "D_58_x              0\n",
       "B_14_x              0\n",
       "D_59_x          13077\n",
       "D_60_x              0\n",
       "B_15_x           2021\n",
       "S_11_x              0\n",
       "D_63_x              0\n",
       "D_64_x          34832\n",
       "D_65_x              0\n",
       "B_16_x             74\n",
       "B_18_x              0\n",
       "B_19_x             74\n",
       "B_20_x             74\n",
       "D_68_x          31392\n",
       "S_12_x            611\n",
       "R_6_x               0\n",
       "S_13_x              0\n",
       "B_21_x              0\n",
       "D_69_x          24022\n",
       "B_22_x             74\n",
       "D_70_x          13401\n",
       "D_71_x              0\n",
       "D_72_x           3280\n",
       "S_15_x              0\n",
       "B_23_x              0\n",
       "P_4_x               0\n",
       "D_74_x           5880\n",
       "D_75_x              0\n",
       "B_24_x              0\n",
       "R_7_x               0\n",
       "B_25_x           2021\n",
       "B_26_x             74\n",
       "D_78_x          66907\n",
       "D_79_x           7515\n",
       "R_8_x               0\n",
       "S_16_x              0\n",
       "D_80_x           5880\n",
       "R_10_x              0\n",
       "R_11_x              0\n",
       "B_27_x             74\n",
       "D_81_x           3277\n",
       "S_17_x           1409\n",
       "R_12_x              0\n",
       "B_28_x              0\n",
       "R_13_x              0\n",
       "D_83_x          24022\n",
       "R_14_x              0\n",
       "R_15_x              0\n",
       "D_84_x           3449\n",
       "R_16_x              0\n",
       "B_30_x             74\n",
       "S_18_x              0\n",
       "D_86_x            122\n",
       "R_17_x              0\n",
       "R_18_x              0\n",
       "B_31_x              0\n",
       "S_19_x              0\n",
       "R_19_x              0\n",
       "B_32_x              0\n",
       "S_20_x              0\n",
       "R_20_x              0\n",
       "R_21_x              0\n",
       "B_33_x             74\n",
       "D_89_x           3449\n",
       "R_22_x              0\n",
       "R_23_x              0\n",
       "D_91_x          47320\n",
       "D_92_x              0\n",
       "D_93_x              0\n",
       "D_94_x              0\n",
       "R_24_x              0\n",
       "R_25_x              0\n",
       "D_96_x              0\n",
       "S_22_x           6481\n",
       "S_23_x            201\n",
       "S_24_x           6368\n",
       "S_25_x           4374\n",
       "S_26_x            834\n",
       "D_102_x             0\n",
       "D_103_x          7880\n",
       "D_104_x          7880\n",
       "D_107_x          7880\n",
       "B_36_x              0\n",
       "B_37_x            834\n",
       "R_27_x          80127\n",
       "B_38_x             74\n",
       "D_109_x           908\n",
       "D_112_x           908\n",
       "B_40_x            834\n",
       "D_113_x         23035\n",
       "D_114_x         23035\n",
       "D_115_x         23035\n",
       "D_116_x         23035\n",
       "D_117_x         23035\n",
       "D_118_x         23035\n",
       "D_119_x         23035\n",
       "D_120_x         23035\n",
       "D_121_x         23035\n",
       "D_122_x         23035\n",
       "D_123_x         23035\n",
       "D_124_x         23035\n",
       "D_125_x         23035\n",
       "D_126_x             0\n",
       "D_127_x             0\n",
       "D_128_x          7880\n",
       "D_129_x          7880\n",
       "B_41_x            834\n",
       "D_130_x          7880\n",
       "D_131_x          7880\n",
       "D_133_x             0\n",
       "R_28_x              0\n",
       "D_139_x          7880\n",
       "D_140_x             0\n",
       "D_141_x          7880\n",
       "D_143_x          7880\n",
       "D_144_x             0\n",
       "D_145_x          7880\n",
       "P_2_y           17577\n",
       "D_39_y          10947\n",
       "B_1_y           10947\n",
       "B_2_y           10947\n",
       "R_1_y           10947\n",
       "D_41_y          10947\n",
       "B_3_y           10947\n",
       "D_44_y          76276\n",
       "B_4_y           10947\n",
       "D_45_y          10947\n",
       "B_5_y           10947\n",
       "R_2_y           10947\n",
       "D_47_y          10947\n",
       "B_6_y           10975\n",
       "B_7_y           10947\n",
       "B_8_y           24519\n",
       "D_51_y          10947\n",
       "B_9_y           10947\n",
       "R_3_y           10947\n",
       "D_52_y          13311\n",
       "P_3_y           53577\n",
       "B_10_y          10947\n",
       "S_5_y           10947\n",
       "B_11_y          10947\n",
       "S_6_y           10947\n",
       "D_54_y          10947\n",
       "R_4_y           10947\n",
       "B_12_y          10947\n",
       "S_8_y           10947\n",
       "D_55_y          99810\n",
       "B_13_y          12184\n",
       "R_5_y           10947\n",
       "D_58_y          10947\n",
       "B_14_y          10947\n",
       "D_59_y          18110\n",
       "D_60_y          10947\n",
       "B_15_y          12951\n",
       "S_11_y          10947\n",
       "D_63_y          10947\n",
       "D_64_y          38393\n",
       "D_65_y          10947\n",
       "B_16_y          10947\n",
       "B_18_y          10947\n",
       "B_19_y          10947\n",
       "B_20_y          10947\n",
       "D_68_y          34963\n",
       "S_12_y          11554\n",
       "R_6_y           10947\n",
       "S_13_y          10947\n",
       "B_21_y          10947\n",
       "D_69_y          27657\n",
       "B_22_y          10947\n",
       "D_70_y          19876\n",
       "D_71_y          10947\n",
       "D_72_y          13282\n",
       "S_15_y          10947\n",
       "B_23_y          10947\n",
       "P_4_y           10947\n",
       "D_74_y          15784\n",
       "D_75_y          10947\n",
       "B_24_y          10947\n",
       "R_7_y           10947\n",
       "B_25_y          12951\n",
       "B_26_y          10947\n",
       "D_78_y          76276\n",
       "D_79_y          15586\n",
       "R_8_y           10947\n",
       "S_16_y          10947\n",
       "D_80_y          15784\n",
       "R_10_y          10947\n",
       "R_11_y          10947\n",
       "B_27_y          10947\n",
       "D_81_y          13175\n",
       "S_17_y          12344\n",
       "R_12_y          10947\n",
       "B_28_y          10947\n",
       "R_13_y          10947\n",
       "D_83_y          27657\n",
       "R_14_y          10947\n",
       "R_15_y          10947\n",
       "D_84_y          13311\n",
       "R_16_y          10947\n",
       "B_30_y          10947\n",
       "S_18_y          10947\n",
       "D_86_y          10994\n",
       "R_17_y          10947\n",
       "R_18_y          10947\n",
       "B_31_y          10947\n",
       "S_19_y          10947\n",
       "R_19_y          10947\n",
       "B_32_y          10947\n",
       "S_20_y          10947\n",
       "R_20_y          10947\n",
       "R_21_y          10947\n",
       "B_33_y          10947\n",
       "D_89_y          13311\n",
       "R_22_y          10947\n",
       "R_23_y          10947\n",
       "D_91_y          49612\n",
       "D_92_y          10947\n",
       "D_93_y          10947\n",
       "D_94_y          10947\n",
       "R_24_y          10947\n",
       "R_25_y          10947\n",
       "D_96_y          10947\n",
       "S_22_y          16817\n",
       "S_23_y          11142\n",
       "S_24_y          16708\n",
       "S_25_y          15293\n",
       "S_26_y          11776\n",
       "D_102_y         10947\n",
       "D_103_y         15755\n",
       "D_104_y         15755\n",
       "D_107_y         15755\n",
       "B_36_y          10947\n",
       "B_37_y          11776\n",
       "R_27_y          83659\n",
       "B_38_y          10947\n",
       "D_109_y         11776\n",
       "D_112_y         11776\n",
       "B_40_y          11776\n",
       "D_113_y         26728\n",
       "D_114_y         26728\n",
       "D_115_y         26728\n",
       "D_116_y         26728\n",
       "D_117_y         26728\n",
       "D_118_y         26728\n",
       "D_119_y         26728\n",
       "D_120_y         26728\n",
       "D_121_y         26728\n",
       "D_122_y         26728\n",
       "D_123_y         26728\n",
       "D_124_y         26728\n",
       "D_125_y         26728\n",
       "D_126_y         10947\n",
       "D_127_y         10947\n",
       "D_128_y         15755\n",
       "D_129_y         15755\n",
       "B_41_y          11776\n",
       "D_130_y         15755\n",
       "D_131_y         15755\n",
       "D_133_y         10947\n",
       "R_28_y          10947\n",
       "D_139_y         15755\n",
       "D_140_y         10947\n",
       "D_141_y         15755\n",
       "D_143_y         15755\n",
       "D_144_y         10947\n",
       "D_145_y         15755\n",
       "target         924621\n",
       "dtype: int64"
      ]
     },
     "execution_count": 20,
     "metadata": {},
     "output_type": "execute_result"
    }
   ],
   "source": [
    "pd.set_option('display.max_row', None)\n",
    "df.isnull().sum(axis=0)"
   ]
  },
  {
   "cell_type": "code",
   "execution_count": 21,
   "id": "b4937344",
   "metadata": {},
   "outputs": [],
   "source": [
    "df = df.set_index('customer_ID')"
   ]
  },
  {
   "cell_type": "code",
   "execution_count": 22,
   "id": "a106e5c1",
   "metadata": {},
   "outputs": [],
   "source": [
    "X = pd.get_dummies(df.iloc[:,:-1])"
   ]
  },
  {
   "cell_type": "code",
   "execution_count": 23,
   "id": "aab14e21",
   "metadata": {},
   "outputs": [
    {
     "data": {
      "text/plain": [
       "Index(['P_2_x', 'D_39_x', 'B_1_x', 'B_2_x', 'R_1_x', 'D_41_x', 'B_3_x',\n",
       "       'D_44_x', 'B_4_x', 'D_45_x',\n",
       "       ...\n",
       "       'D_64_x_U', 'D_63_y_CL', 'D_63_y_CO', 'D_63_y_CR', 'D_63_y_XL',\n",
       "       'D_63_y_XM', 'D_63_y_XZ', 'D_64_y_O', 'D_64_y_R', 'D_64_y_U'],\n",
       "      dtype='object', length=312)"
      ]
     },
     "execution_count": 23,
     "metadata": {},
     "output_type": "execute_result"
    }
   ],
   "source": [
    "X.columns"
   ]
  },
  {
   "cell_type": "code",
   "execution_count": 24,
   "id": "a049ce7b",
   "metadata": {},
   "outputs": [],
   "source": [
    "X_predict = X.iloc[458913:,:]\n",
    "X_predict = X_predict.ffill().bfill()"
   ]
  },
  {
   "cell_type": "code",
   "execution_count": 25,
   "id": "f7b96664",
   "metadata": {},
   "outputs": [
    {
     "data": {
      "text/plain": [
       "(924621, 312)"
      ]
     },
     "execution_count": 25,
     "metadata": {},
     "output_type": "execute_result"
    }
   ],
   "source": [
    "pd.set_option('display.max_row', None)\n",
    "X_predict.isnull().sum(axis=0)\n",
    "X_predict.shape"
   ]
  },
  {
   "cell_type": "code",
   "execution_count": 26,
   "id": "badd11b2",
   "metadata": {},
   "outputs": [],
   "source": [
    "X_train_or_test = X.iloc[:458913,:]\n",
    "X_train_or_test = X_train_or_test.ffill().bfill()"
   ]
  },
  {
   "cell_type": "code",
   "execution_count": 27,
   "id": "fc426788",
   "metadata": {},
   "outputs": [
    {
     "data": {
      "text/plain": [
       "(458913, 312)"
      ]
     },
     "execution_count": 27,
     "metadata": {},
     "output_type": "execute_result"
    }
   ],
   "source": [
    "X_train_or_test.shape"
   ]
  },
  {
   "cell_type": "code",
   "execution_count": 30,
   "id": "8419fd02",
   "metadata": {},
   "outputs": [
    {
     "data": {
      "text/plain": [
       "array([0., 0., 0., ..., 0., 1., 0.])"
      ]
     },
     "execution_count": 30,
     "metadata": {},
     "output_type": "execute_result"
    }
   ],
   "source": [
    "Y = df.iloc[:458913,-1:].values.ravel()\n",
    "len(Y)"
   ]
  },
  {
   "cell_type": "code",
   "execution_count": 31,
   "id": "0717e6f9",
   "metadata": {},
   "outputs": [],
   "source": [
    "X_train,X_test, y_train, y_test =train_test_split(X_train_or_test,Y,test_size=0.3, random_state=123)"
   ]
  },
  {
   "cell_type": "code",
   "execution_count": 32,
   "id": "a9659894",
   "metadata": {},
   "outputs": [],
   "source": [
    "def amex_metric(y_true: pd.DataFrame, y_pred: pd.DataFrame) -> float:\n",
    "\n",
    "    def top_four_percent_captured(y_true: pd.DataFrame, y_pred: pd.DataFrame) -> float:\n",
    "        df = (pd.concat([y_true, y_pred], axis='columns')\n",
    "              .sort_values('prediction', ascending=False))\n",
    "        df['weight'] = df['target'].apply(lambda x: 20 if x==0 else 1)\n",
    "        four_pct_cutoff = int(0.04 * df['weight'].sum())\n",
    "        df['weight_cumsum'] = df['weight'].cumsum()\n",
    "        df_cutoff = df.loc[df['weight_cumsum'] <= four_pct_cutoff]\n",
    "        return (df_cutoff['target'] == 1).sum() / (df['target'] == 1).sum()\n",
    "        \n",
    "    def weighted_gini(y_true: pd.DataFrame, y_pred: pd.DataFrame) -> float:\n",
    "        df = (pd.concat([y_true, y_pred], axis='columns')\n",
    "              .sort_values('prediction', ascending=False))\n",
    "        df['weight'] = df['target'].apply(lambda x: 20 if x==0 else 1)\n",
    "        df['random'] = (df['weight'] / df['weight'].sum()).cumsum()\n",
    "        total_pos = (df['target'] * df['weight']).sum()\n",
    "        df['cum_pos_found'] = (df['target'] * df['weight']).cumsum()\n",
    "        df['lorentz'] = df['cum_pos_found'] / total_pos\n",
    "        df['gini'] = (df['lorentz'] - df['random']) * df['weight']\n",
    "        return df['gini'].sum()\n",
    "\n",
    "    def normalized_weighted_gini(y_true: pd.DataFrame, y_pred: pd.DataFrame) -> float:\n",
    "        y_true_pred = y_true.rename(columns={'target': 'prediction'})\n",
    "        return weighted_gini(y_true, y_pred) / weighted_gini(y_true, y_true_pred)\n",
    "\n",
    "    g = normalized_weighted_gini(y_true, y_pred)\n",
    "    d = top_four_percent_captured(y_true, y_pred)\n",
    "\n",
    "    return 0.5 * (g + d)"
   ]
  },
  {
   "cell_type": "code",
   "execution_count": 45,
   "id": "d9fe1008",
   "metadata": {},
   "outputs": [],
   "source": [
    "params = {\n",
    "            'n_estimators':70,\n",
    "            'max_depth':5\n",
    "}"
   ]
  },
  {
   "cell_type": "code",
   "execution_count": 46,
   "id": "9353dab0",
   "metadata": {},
   "outputs": [
    {
     "name": "stderr",
     "output_type": "stream",
     "text": [
      "/Users/caroline/opt/anaconda3/lib/python3.9/site-packages/xgboost/data.py:250: FutureWarning: pandas.Int64Index is deprecated and will be removed from pandas in a future version. Use pandas.Index with the appropriate dtype instead.\n",
      "  elif isinstance(data.columns, (pd.Int64Index, pd.RangeIndex)):\n"
     ]
    },
    {
     "data": {
      "text/plain": [
       "0.7660987889243318"
      ]
     },
     "execution_count": 46,
     "metadata": {},
     "output_type": "execute_result"
    }
   ],
   "source": [
    "reg = XGBR(**params).fit(X_train,y_train)\n",
    "test_predict = reg.predict(X_test) \n",
    "y_test1 = pd.DataFrame(y_test)\n",
    "y_test1.columns = ['target']\n",
    "test_predict1 = pd.DataFrame(test_predict)\n",
    "test_predict1.columns = ['prediction']\n",
    "score = amex_metric(y_test1,test_predict1)\n",
    "score"
   ]
  },
  {
   "cell_type": "code",
   "execution_count": null,
   "id": "b909b27f",
   "metadata": {},
   "outputs": [],
   "source": [
    "# score = []\n",
    "# radom_estimators=[50,100,200,300,400,500]\n",
    "# for i in radom_estimators:\n",
    "#     reg = XGBR(n_estimators=i).fit(X_train,y_train)\n",
    "#     test_predict = reg.predict(X_test) \n",
    "#     y_test1 = pd.DataFrame(y_test)\n",
    "#     y_test1.columns = ['target']\n",
    "#     test_predict1 = pd.DataFrame(test_predict)\n",
    "#     test_predict1.columns = ['prediction']\n",
    "#     s = amex_metric(y_test1,test_predict1)\n",
    "#     print(\"n_estimators:{},score:{}\".format(i,s))\n",
    "#     score.append(s)    "
   ]
  },
  {
   "cell_type": "code",
   "execution_count": 47,
   "id": "2b121a7f",
   "metadata": {},
   "outputs": [],
   "source": [
    "prediction = reg.predict(X_predict)\n",
    "# X_train.shape"
   ]
  },
  {
   "cell_type": "code",
   "execution_count": 48,
   "id": "f3b6bb85",
   "metadata": {},
   "outputs": [
    {
     "data": {
      "text/plain": [
       "(924621,)"
      ]
     },
     "execution_count": 48,
     "metadata": {},
     "output_type": "execute_result"
    }
   ],
   "source": [
    "prediction.shape"
   ]
  },
  {
   "cell_type": "code",
   "execution_count": 49,
   "id": "d4b9e1d1",
   "metadata": {},
   "outputs": [],
   "source": [
    "submission = pd.DataFrame({\"customer_ID\":X_predict.index,\"prediction\":prediction})"
   ]
  },
  {
   "cell_type": "code",
   "execution_count": 50,
   "id": "14b4bdc1",
   "metadata": {},
   "outputs": [
    {
     "data": {
      "text/html": [
       "<div>\n",
       "<style scoped>\n",
       "    .dataframe tbody tr th:only-of-type {\n",
       "        vertical-align: middle;\n",
       "    }\n",
       "\n",
       "    .dataframe tbody tr th {\n",
       "        vertical-align: top;\n",
       "    }\n",
       "\n",
       "    .dataframe thead th {\n",
       "        text-align: right;\n",
       "    }\n",
       "</style>\n",
       "<table border=\"1\" class=\"dataframe\">\n",
       "  <thead>\n",
       "    <tr style=\"text-align: right;\">\n",
       "      <th></th>\n",
       "      <th>customer_ID</th>\n",
       "      <th>prediction</th>\n",
       "    </tr>\n",
       "  </thead>\n",
       "  <tbody>\n",
       "    <tr>\n",
       "      <th>0</th>\n",
       "      <td>00000469ba478561f23a92a868bd366de6f6527a684c9a...</td>\n",
       "      <td>-0.067681</td>\n",
       "    </tr>\n",
       "    <tr>\n",
       "      <th>1</th>\n",
       "      <td>00001bf2e77ff879fab36aa4fac689b9ba411dae63ae39...</td>\n",
       "      <td>0.010330</td>\n",
       "    </tr>\n",
       "    <tr>\n",
       "      <th>2</th>\n",
       "      <td>0000210045da4f81e5f122c6bde5c2a617d03eef67f82c...</td>\n",
       "      <td>0.036642</td>\n",
       "    </tr>\n",
       "    <tr>\n",
       "      <th>3</th>\n",
       "      <td>00003b41e58ede33b8daf61ab56d9952f17c9ad1c3976c...</td>\n",
       "      <td>0.289223</td>\n",
       "    </tr>\n",
       "    <tr>\n",
       "      <th>4</th>\n",
       "      <td>00004b22eaeeeb0ec976890c1d9bfc14fd9427e98c4ee9...</td>\n",
       "      <td>0.809930</td>\n",
       "    </tr>\n",
       "  </tbody>\n",
       "</table>\n",
       "</div>"
      ],
      "text/plain": [
       "                                         customer_ID  prediction\n",
       "0  00000469ba478561f23a92a868bd366de6f6527a684c9a...   -0.067681\n",
       "1  00001bf2e77ff879fab36aa4fac689b9ba411dae63ae39...    0.010330\n",
       "2  0000210045da4f81e5f122c6bde5c2a617d03eef67f82c...    0.036642\n",
       "3  00003b41e58ede33b8daf61ab56d9952f17c9ad1c3976c...    0.289223\n",
       "4  00004b22eaeeeb0ec976890c1d9bfc14fd9427e98c4ee9...    0.809930"
      ]
     },
     "execution_count": 50,
     "metadata": {},
     "output_type": "execute_result"
    }
   ],
   "source": [
    "submission.head()"
   ]
  },
  {
   "cell_type": "code",
   "execution_count": 56,
   "id": "c918b09c",
   "metadata": {},
   "outputs": [],
   "source": [
    "submission.loc[submission['prediction']<0,'prediction'] = 0"
   ]
  },
  {
   "cell_type": "code",
   "execution_count": 57,
   "id": "69f333e3",
   "metadata": {},
   "outputs": [],
   "source": [
    "submission.to_csv('submission.csv', index=False)"
   ]
  },
  {
   "cell_type": "code",
   "execution_count": null,
   "id": "d6834690",
   "metadata": {},
   "outputs": [],
   "source": []
  }
 ],
 "metadata": {
  "kernelspec": {
   "display_name": "Python 3 (ipykernel)",
   "language": "python",
   "name": "python3"
  },
  "language_info": {
   "codemirror_mode": {
    "name": "ipython",
    "version": 3
   },
   "file_extension": ".py",
   "mimetype": "text/x-python",
   "name": "python",
   "nbconvert_exporter": "python",
   "pygments_lexer": "ipython3",
   "version": "3.9.12"
  }
 },
 "nbformat": 4,
 "nbformat_minor": 5
}
