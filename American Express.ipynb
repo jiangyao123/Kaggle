{
 "cells": [
  {
   "cell_type": "code",
   "execution_count": 51,
   "id": "d5e1271c",
   "metadata": {},
   "outputs": [],
   "source": [
    "from sklearn.model_selection import train_test_split,cross_val_score,KFold\n",
    "from sklearn.feature_selection import SelectFromModel\n",
    "from sklearn.metrics import roc_auc_score\n",
    "import pandas as pd\n",
    "import numpy as np\n",
    "import matplotlib.pyplot as plt\n",
    "import seaborn as sns\n",
    "from xgboost import XGBRegressor as XGBR,XGBClassifier as XGBC,plot_importance\n",
    "from lightgbm import LGBMRegressor as LGBMR,LGBMClassifier as LGBMC,plot_importance,Booster\n",
    "from sklearn.ensemble import RandomForestRegressor as RFR,AdaBoostRegressor as ABR\n",
    "from numpy import sort\n",
    "from sklearn.linear_model import LogisticRegression as LR\n",
    "from mlxtend.regressor import StackingCVRegressor as SCVR\n",
    "from sklearn.svm import SVC\n",
    "from sklearn.neural_network import MLPRegressor as MLPR"
   ]
  },
  {
   "cell_type": "code",
   "execution_count": 52,
   "id": "9e7cc1d7",
   "metadata": {},
   "outputs": [
    {
     "name": "stdout",
     "output_type": "stream",
     "text": [
      "CPU times: user 16.2 s, sys: 5.28 s, total: 21.5 s\n",
      "Wall time: 50.1 s\n"
     ]
    }
   ],
   "source": [
    "%%time\n",
    "train_data = pd.read_parquet('/Users/caroline/Downloads/train_data.parquet')\n",
    "test_data = pd.read_parquet('/Users/caroline/Downloads/test_data.parquet')"
   ]
  },
  {
   "cell_type": "markdown",
   "id": "8e27bb5e",
   "metadata": {},
   "source": [
    "是否违约取决于用户最近一次帐期后的120天是否支付，所以用户的最后一次报表数据至关重要，它将是我们用于训练的数据主要来源，但是大部分用户有13个月的账期数据，这其中或许也隐藏着信息，把历史数据用于弥补当前账期一些缺失或异常数据带来的误差不失为一种策略。\n",
    "\n",
    "首先我们取最后一个账期的数据，对全部特征做相关性分析，初步提取出和目标（target）相关系数最大的一些特征（top_features），后续将提取这些特征的历史数据来构建新特征。"
   ]
  },
  {
   "cell_type": "code",
   "execution_count": 53,
   "id": "855acf8b",
   "metadata": {},
   "outputs": [],
   "source": [
    "data = train_data.groupby('customer_ID').tail(1)\n",
    "corr_matrix = data.corr()"
   ]
  },
  {
   "cell_type": "code",
   "execution_count": 54,
   "id": "ad28e1fa",
   "metadata": {},
   "outputs": [
    {
     "data": {
      "text/plain": [
       "['P_2',\n",
       " 'B_2',\n",
       " 'B_3',\n",
       " 'D_44',\n",
       " 'D_48',\n",
       " 'B_7',\n",
       " 'B_9',\n",
       " 'D_55',\n",
       " 'D_61',\n",
       " 'B_18',\n",
       " 'B_33']"
      ]
     },
     "execution_count": 54,
     "metadata": {},
     "output_type": "execute_result"
    }
   ],
   "source": [
    "corr_target = pd.DataFrame(corr_matrix.target)\n",
    "top_features = corr_target[(abs(corr_target['target'])>=0.5)&(abs(corr_target['target'])!=1)].index.to_list()\n",
    "top_features"
   ]
  },
  {
   "cell_type": "code",
   "execution_count": 58,
   "id": "08e5d57a",
   "metadata": {},
   "outputs": [],
   "source": [
    "#缺失值查看\n",
    "n_df_train = pd.DataFrame(train_data.isnull().sum(axis=0),columns=['n_rate_train'])/len(train_data)\n",
    "n_df_test = pd.DataFrame(test_data.isnull().sum(axis=0),columns=['n_rate_test'])/len(test_data)\n",
    "n_df = pd.merge(n_df_train,n_df_test,how='left',left_index=True,right_index=True)"
   ]
  },
  {
   "cell_type": "code",
   "execution_count": 59,
   "id": "aaf42dee",
   "metadata": {},
   "outputs": [],
   "source": [
    "mix_df = n_df.merge(corr_target,how='outer',left_index=True,right_index=True)"
   ]
  },
  {
   "cell_type": "code",
   "execution_count": 60,
   "id": "ae47669c",
   "metadata": {},
   "outputs": [],
   "source": [
    "#剔除和目标关联度小或缺失严重的特征\n",
    "drop_features = mix_df[(abs(mix_df['target'])<0.05)|(mix_df['n_rate_train']>0.5)].index.to_list()\n",
    "#保留B_17,B_42 \n",
    "drop_features.remove('B_17')\n",
    "drop_features.remove('B_42')\n",
    "drop_features.append('S_2')#日期列\n"
   ]
  },
  {
   "cell_type": "code",
   "execution_count": 61,
   "id": "e80c6903",
   "metadata": {},
   "outputs": [
    {
     "data": {
      "text/plain": [
       "['B_10',\n",
       " 'B_12',\n",
       " 'B_13',\n",
       " 'B_15',\n",
       " 'B_26',\n",
       " 'B_27',\n",
       " 'B_29',\n",
       " 'B_36',\n",
       " 'B_39',\n",
       " 'B_40',\n",
       " 'D_102',\n",
       " 'D_105',\n",
       " 'D_106',\n",
       " 'D_108',\n",
       " 'D_109',\n",
       " 'D_110',\n",
       " 'D_111',\n",
       " 'D_132',\n",
       " 'D_134',\n",
       " 'D_135',\n",
       " 'D_136',\n",
       " 'D_137',\n",
       " 'D_138',\n",
       " 'D_142',\n",
       " 'D_144',\n",
       " 'D_42',\n",
       " 'D_49',\n",
       " 'D_50',\n",
       " 'D_53',\n",
       " 'D_56',\n",
       " 'D_66',\n",
       " 'D_69',\n",
       " 'D_73',\n",
       " 'D_76',\n",
       " 'D_82',\n",
       " 'D_87',\n",
       " 'D_88',\n",
       " 'D_93',\n",
       " 'R_14',\n",
       " 'R_18',\n",
       " 'R_23',\n",
       " 'R_26',\n",
       " 'R_28',\n",
       " 'R_9',\n",
       " 'S_12',\n",
       " 'S_17',\n",
       " 'S_18',\n",
       " 'S_19',\n",
       " 'S_26',\n",
       " 'S_5',\n",
       " 'S_9',\n",
       " 'S_2']"
      ]
     },
     "execution_count": 61,
     "metadata": {},
     "output_type": "execute_result"
    }
   ],
   "source": [
    "drop_features"
   ]
  },
  {
   "cell_type": "code",
   "execution_count": 62,
   "id": "5b891e7c",
   "metadata": {},
   "outputs": [],
   "source": [
    "train_data = train_data.drop(columns=drop_features)\n",
    "test_data = test_data.drop(columns=drop_features)"
   ]
  },
  {
   "cell_type": "code",
   "execution_count": 63,
   "id": "0241632c",
   "metadata": {},
   "outputs": [],
   "source": [
    "top_features.append('customer_ID')\n",
    "top_features = list(set(top_features))"
   ]
  },
  {
   "cell_type": "code",
   "execution_count": 64,
   "id": "9228a00e",
   "metadata": {},
   "outputs": [
    {
     "name": "stderr",
     "output_type": "stream",
     "text": [
      "/var/folders/7l/tgtyfd113vbfk2nw_xks1v000000gn/T/ipykernel_22138/3231919275.py:4: FutureWarning: merging between different levels is deprecated and will be removed in a future version. (1 levels on the left, 2 on the right)\n",
      "  train_data = pd.merge(train_data,extra_features,how='left',on='customer_ID')\n"
     ]
    }
   ],
   "source": [
    "#把重要特征的均值、中值等作为新特征\n",
    "extra_features = train_data[top_features].groupby('customer_ID').agg(['first','last','mean','median','std','sum','max','min'])\n",
    "train_data = train_data.groupby('customer_ID').tail(1)\n",
    "train_data = pd.merge(train_data,extra_features,how='left',on='customer_ID')"
   ]
  },
  {
   "cell_type": "code",
   "execution_count": 65,
   "id": "b4b0ba60",
   "metadata": {},
   "outputs": [
    {
     "name": "stderr",
     "output_type": "stream",
     "text": [
      "/var/folders/7l/tgtyfd113vbfk2nw_xks1v000000gn/T/ipykernel_22138/3670765849.py:3: FutureWarning: merging between different levels is deprecated and will be removed in a future version. (1 levels on the left, 2 on the right)\n",
      "  test_data = pd.merge(test_data,extra_features,how='left',on='customer_ID')\n"
     ]
    }
   ],
   "source": [
    "extra_features = test_data[top_features].groupby('customer_ID').agg(['first','last','mean','median','std','sum','max','min'])\n",
    "test_data = test_data.groupby('customer_ID').tail(1)\n",
    "test_data = pd.merge(test_data,extra_features,how='left',on='customer_ID')"
   ]
  },
  {
   "cell_type": "code",
   "execution_count": 66,
   "id": "143ff1b0",
   "metadata": {},
   "outputs": [],
   "source": [
    "features_fill_na_mode = ['B_30', 'B_38', 'D_114', 'D_116', 'D_117', 'D_120', 'D_126', 'D_63', 'D_64','D_68']\n",
    "for feature_mode in features_fill_na_mode:\n",
    "    mode_value = train_data[feature_mode].value_counts().sort_values(ascending=False).index[0]\n",
    "    train_data[feature_mode] = train_data[feature_mode].fillna(mode_value)\n",
    "for feature_mode in features_fill_na_mode:\n",
    "    mode_value = test_data[feature_mode].value_counts().sort_values(ascending=False).index[0]\n",
    "    test_data[feature_mode] = test_data[feature_mode].fillna(mode_value)\n",
    "    "
   ]
  },
  {
   "cell_type": "code",
   "execution_count": 67,
   "id": "3a35c61d",
   "metadata": {},
   "outputs": [
    {
     "data": {
      "text/plain": [
       "B_30     0\n",
       "B_38     0\n",
       "D_114    0\n",
       "D_116    0\n",
       "D_117    0\n",
       "D_120    0\n",
       "D_126    0\n",
       "D_63     0\n",
       "D_64     0\n",
       "D_68     0\n",
       "dtype: int64"
      ]
     },
     "execution_count": 67,
     "metadata": {},
     "output_type": "execute_result"
    }
   ],
   "source": [
    "train_data[['B_30', 'B_38', 'D_114', 'D_116', 'D_117', 'D_120', 'D_126', 'D_63', 'D_64','D_68']].isnull().sum(axis=0)"
   ]
  },
  {
   "cell_type": "code",
   "execution_count": 68,
   "id": "c16797ee",
   "metadata": {},
   "outputs": [
    {
     "name": "stderr",
     "output_type": "stream",
     "text": [
      "/var/folders/7l/tgtyfd113vbfk2nw_xks1v000000gn/T/ipykernel_22138/3665293125.py:1: FutureWarning: Dropping of nuisance columns in DataFrame reductions (with 'numeric_only=None') is deprecated; in a future version this will raise TypeError.  Select only valid columns before calling the reduction.\n",
      "  train_data.fillna(train_data.median(),inplace=True)\n",
      "/var/folders/7l/tgtyfd113vbfk2nw_xks1v000000gn/T/ipykernel_22138/3665293125.py:2: FutureWarning: Dropping of nuisance columns in DataFrame reductions (with 'numeric_only=None') is deprecated; in a future version this will raise TypeError.  Select only valid columns before calling the reduction.\n",
      "  test_data.fillna(test_data.median(),inplace=True)\n"
     ]
    }
   ],
   "source": [
    "train_data.fillna(train_data.median(),inplace=True)\n",
    "test_data.fillna(test_data.median(),inplace=True)"
   ]
  },
  {
   "cell_type": "code",
   "execution_count": 69,
   "id": "bbe10408",
   "metadata": {},
   "outputs": [
    {
     "data": {
      "text/plain": [
       "customer_ID       0\n",
       "P_2               0\n",
       "D_39              0\n",
       "B_1               0\n",
       "B_2               0\n",
       "R_1               0\n",
       "S_3               0\n",
       "D_41              0\n",
       "B_3               0\n",
       "D_43              0\n",
       "D_44              0\n",
       "B_4               0\n",
       "D_45              0\n",
       "B_5               0\n",
       "R_2               0\n",
       "D_46              0\n",
       "D_47              0\n",
       "D_48              0\n",
       "B_6               0\n",
       "B_7               0\n",
       "B_8               0\n",
       "D_51              0\n",
       "B_9               0\n",
       "R_3               0\n",
       "D_52              0\n",
       "P_3               0\n",
       "B_11              0\n",
       "S_6               0\n",
       "D_54              0\n",
       "R_4               0\n",
       "S_7               0\n",
       "S_8               0\n",
       "D_55              0\n",
       "R_5               0\n",
       "D_58              0\n",
       "B_14              0\n",
       "D_59              0\n",
       "D_60              0\n",
       "D_61              0\n",
       "S_11              0\n",
       "D_62              0\n",
       "D_63              0\n",
       "D_64              0\n",
       "D_65              0\n",
       "B_16              0\n",
       "B_17              0\n",
       "B_18              0\n",
       "B_19              0\n",
       "B_20              0\n",
       "D_68              0\n",
       "R_6               0\n",
       "S_13              0\n",
       "B_21              0\n",
       "B_22              0\n",
       "D_70              0\n",
       "D_71              0\n",
       "D_72              0\n",
       "S_15              0\n",
       "B_23              0\n",
       "P_4               0\n",
       "D_74              0\n",
       "D_75              0\n",
       "B_24              0\n",
       "R_7               0\n",
       "D_77              0\n",
       "B_25              0\n",
       "D_78              0\n",
       "D_79              0\n",
       "R_8               0\n",
       "S_16              0\n",
       "D_80              0\n",
       "R_10              0\n",
       "R_11              0\n",
       "D_81              0\n",
       "R_12              0\n",
       "B_28              0\n",
       "R_13              0\n",
       "D_83              0\n",
       "R_15              0\n",
       "D_84              0\n",
       "R_16              0\n",
       "B_30              0\n",
       "D_86              0\n",
       "R_17              0\n",
       "B_31              0\n",
       "R_19              0\n",
       "B_32              0\n",
       "S_20              0\n",
       "R_20              0\n",
       "R_21              0\n",
       "B_33              0\n",
       "D_89              0\n",
       "R_22              0\n",
       "D_91              0\n",
       "D_92              0\n",
       "D_94              0\n",
       "R_24              0\n",
       "R_25              0\n",
       "D_96              0\n",
       "S_22              0\n",
       "S_23              0\n",
       "S_24              0\n",
       "S_25              0\n",
       "D_103             0\n",
       "D_104             0\n",
       "D_107             0\n",
       "B_37              0\n",
       "R_27              0\n",
       "B_38              0\n",
       "D_112             0\n",
       "S_27              0\n",
       "D_113             0\n",
       "D_114             0\n",
       "D_115             0\n",
       "D_116             0\n",
       "D_117             0\n",
       "D_118             0\n",
       "D_119             0\n",
       "D_120             0\n",
       "D_121             0\n",
       "D_122             0\n",
       "D_123             0\n",
       "D_124             0\n",
       "D_125             0\n",
       "D_126             0\n",
       "D_127             0\n",
       "D_128             0\n",
       "D_129             0\n",
       "B_41              0\n",
       "B_42              0\n",
       "D_130             0\n",
       "D_131             0\n",
       "D_133             0\n",
       "D_139             0\n",
       "D_140             0\n",
       "D_141             0\n",
       "D_143             0\n",
       "D_145             0\n",
       "(B_2, first)      0\n",
       "(B_2, last)       0\n",
       "(B_2, mean)       0\n",
       "(B_2, median)     0\n",
       "(B_2, std)        0\n",
       "(B_2, sum)        0\n",
       "(B_2, max)        0\n",
       "(B_2, min)        0\n",
       "(B_3, first)      0\n",
       "(B_3, last)       0\n",
       "(B_3, mean)       0\n",
       "(B_3, median)     0\n",
       "(B_3, std)        0\n",
       "(B_3, sum)        0\n",
       "(B_3, max)        0\n",
       "(B_3, min)        0\n",
       "(B_18, first)     0\n",
       "(B_18, last)      0\n",
       "(B_18, mean)      0\n",
       "(B_18, median)    0\n",
       "(B_18, std)       0\n",
       "(B_18, sum)       0\n",
       "(B_18, max)       0\n",
       "(B_18, min)       0\n",
       "(P_2, first)      0\n",
       "(P_2, last)       0\n",
       "(P_2, mean)       0\n",
       "(P_2, median)     0\n",
       "(P_2, std)        0\n",
       "(P_2, sum)        0\n",
       "(P_2, max)        0\n",
       "(P_2, min)        0\n",
       "(D_48, first)     0\n",
       "(D_48, last)      0\n",
       "(D_48, mean)      0\n",
       "(D_48, median)    0\n",
       "(D_48, std)       0\n",
       "(D_48, sum)       0\n",
       "(D_48, max)       0\n",
       "(D_48, min)       0\n",
       "(B_33, first)     0\n",
       "(B_33, last)      0\n",
       "(B_33, mean)      0\n",
       "(B_33, median)    0\n",
       "(B_33, std)       0\n",
       "(B_33, sum)       0\n",
       "(B_33, max)       0\n",
       "(B_33, min)       0\n",
       "(D_55, first)     0\n",
       "(D_55, last)      0\n",
       "(D_55, mean)      0\n",
       "(D_55, median)    0\n",
       "(D_55, std)       0\n",
       "(D_55, sum)       0\n",
       "(D_55, max)       0\n",
       "(D_55, min)       0\n",
       "(B_7, first)      0\n",
       "(B_7, last)       0\n",
       "(B_7, mean)       0\n",
       "(B_7, median)     0\n",
       "(B_7, std)        0\n",
       "(B_7, sum)        0\n",
       "(B_7, max)        0\n",
       "(B_7, min)        0\n",
       "(B_9, first)      0\n",
       "(B_9, last)       0\n",
       "(B_9, mean)       0\n",
       "(B_9, median)     0\n",
       "(B_9, std)        0\n",
       "(B_9, sum)        0\n",
       "(B_9, max)        0\n",
       "(B_9, min)        0\n",
       "(D_61, first)     0\n",
       "(D_61, last)      0\n",
       "(D_61, mean)      0\n",
       "(D_61, median)    0\n",
       "(D_61, std)       0\n",
       "(D_61, sum)       0\n",
       "(D_61, max)       0\n",
       "(D_61, min)       0\n",
       "(D_44, first)     0\n",
       "(D_44, last)      0\n",
       "(D_44, mean)      0\n",
       "(D_44, median)    0\n",
       "(D_44, std)       0\n",
       "(D_44, sum)       0\n",
       "(D_44, max)       0\n",
       "(D_44, min)       0\n",
       "dtype: int64"
      ]
     },
     "execution_count": 69,
     "metadata": {},
     "output_type": "execute_result"
    }
   ],
   "source": [
    "pd.set_option('display.max_row', None)\n",
    "test_data.isnull().sum(axis=0)"
   ]
  },
  {
   "cell_type": "code",
   "execution_count": 70,
   "id": "e610566a",
   "metadata": {},
   "outputs": [
    {
     "data": {
      "text/plain": [
       "(924621, 226)"
      ]
     },
     "execution_count": 70,
     "metadata": {},
     "output_type": "execute_result"
    }
   ],
   "source": [
    "test_data.shape"
   ]
  },
  {
   "cell_type": "code",
   "execution_count": 71,
   "id": "b1d68fb8",
   "metadata": {},
   "outputs": [
    {
     "data": {
      "text/plain": [
       "(458913, 227)"
      ]
     },
     "execution_count": 71,
     "metadata": {},
     "output_type": "execute_result"
    }
   ],
   "source": [
    "train_data.shape"
   ]
  },
  {
   "cell_type": "code",
   "execution_count": 72,
   "id": "198c62f5",
   "metadata": {},
   "outputs": [
    {
     "data": {
      "text/plain": [
       "(458913, 226)"
      ]
     },
     "execution_count": 72,
     "metadata": {},
     "output_type": "execute_result"
    }
   ],
   "source": [
    "Y = train_data.target.values.ravel()\n",
    "train_data = train_data.drop(columns=['target'])\n",
    "train_data.shape"
   ]
  },
  {
   "cell_type": "code",
   "execution_count": 73,
   "id": "b4937344",
   "metadata": {},
   "outputs": [
    {
     "data": {
      "text/plain": [
       "(1383534, 225)"
      ]
     },
     "execution_count": 73,
     "metadata": {},
     "output_type": "execute_result"
    }
   ],
   "source": [
    "total = pd.concat([train_data,test_data])\n",
    "total = total.set_index('customer_ID')\n",
    "total.shape"
   ]
  },
  {
   "cell_type": "code",
   "execution_count": 74,
   "id": "a106e5c1",
   "metadata": {},
   "outputs": [],
   "source": [
    "categories = ['B_30', 'B_38', 'D_114', 'D_116', 'D_117', 'D_120', 'D_126', 'D_63', 'D_64', 'D_68']\n",
    "X = pd.get_dummies(total,columns=categories)"
   ]
  },
  {
   "cell_type": "code",
   "execution_count": 75,
   "id": "aab14e21",
   "metadata": {},
   "outputs": [
    {
     "data": {
      "text/plain": [
       "Index([     'P_2',     'D_39',      'B_1',      'B_2',      'R_1',      'S_3',\n",
       "           'D_41',      'B_3',     'D_43',     'D_44',\n",
       "       ...\n",
       "        'D_63_XZ',   'D_64_O',   'D_64_R',   'D_64_U', 'D_68_1.0', 'D_68_2.0',\n",
       "       'D_68_3.0', 'D_68_4.0', 'D_68_5.0', 'D_68_6.0'],\n",
       "      dtype='object', length=255)"
      ]
     },
     "execution_count": 75,
     "metadata": {},
     "output_type": "execute_result"
    }
   ],
   "source": [
    "X.columns"
   ]
  },
  {
   "cell_type": "code",
   "execution_count": 76,
   "id": "740525af",
   "metadata": {},
   "outputs": [
    {
     "data": {
      "text/plain": [
       "(1383534, 255)"
      ]
     },
     "execution_count": 76,
     "metadata": {},
     "output_type": "execute_result"
    }
   ],
   "source": [
    "X.shape"
   ]
  },
  {
   "cell_type": "code",
   "execution_count": 77,
   "id": "9964ec20",
   "metadata": {},
   "outputs": [],
   "source": [
    "X.columns = [str(i).replace('(','').replace(')','').replace(', ','_').replace('\\'','') for i in X.columns.to_list()]"
   ]
  },
  {
   "cell_type": "code",
   "execution_count": 78,
   "id": "a049ce7b",
   "metadata": {},
   "outputs": [],
   "source": [
    "X_predict = X.iloc[458913:,:]\n",
    "X_train_or_test = X.iloc[:458913,:]"
   ]
  },
  {
   "cell_type": "code",
   "execution_count": 79,
   "id": "fc426788",
   "metadata": {},
   "outputs": [
    {
     "data": {
      "text/plain": [
       "(458913, 255)"
      ]
     },
     "execution_count": 79,
     "metadata": {},
     "output_type": "execute_result"
    }
   ],
   "source": [
    "X_train_or_test.shape"
   ]
  },
  {
   "cell_type": "code",
   "execution_count": 80,
   "id": "0b68534e",
   "metadata": {},
   "outputs": [
    {
     "data": {
      "text/plain": [
       "(458913,)"
      ]
     },
     "execution_count": 80,
     "metadata": {},
     "output_type": "execute_result"
    }
   ],
   "source": [
    "Y.shape"
   ]
  },
  {
   "cell_type": "code",
   "execution_count": 81,
   "id": "0717e6f9",
   "metadata": {},
   "outputs": [],
   "source": [
    "X_train,X_test, y_train, y_test =train_test_split(X_train_or_test,Y,test_size=0.3)"
   ]
  },
  {
   "cell_type": "code",
   "execution_count": 83,
   "id": "a9659894",
   "metadata": {},
   "outputs": [],
   "source": [
    "def amex_metric(y_true: pd.DataFrame, y_pred: pd.DataFrame) -> float:\n",
    "\n",
    "    def top_four_percent_captured(y_true: pd.DataFrame, y_pred: pd.DataFrame) -> float:\n",
    "        df = (pd.concat([y_true, y_pred], axis='columns')\n",
    "              .sort_values('prediction', ascending=False))\n",
    "        df['weight'] = df['target'].apply(lambda x: 20 if x==0 else 1)\n",
    "        four_pct_cutoff = int(0.04 * df['weight'].sum())\n",
    "        df['weight_cumsum'] = df['weight'].cumsum()\n",
    "        df_cutoff = df.loc[df['weight_cumsum'] <= four_pct_cutoff]\n",
    "        return (df_cutoff['target'] == 1).sum() / (df['target'] == 1).sum()\n",
    "        \n",
    "    def weighted_gini(y_true: pd.DataFrame, y_pred: pd.DataFrame) -> float:\n",
    "        df = (pd.concat([y_true, y_pred], axis='columns')\n",
    "              .sort_values('prediction', ascending=False))\n",
    "        df['weight'] = df['target'].apply(lambda x: 20 if x==0 else 1)\n",
    "        df['random'] = (df['weight'] / df['weight'].sum()).cumsum()\n",
    "        total_pos = (df['target'] * df['weight']).sum()\n",
    "        df['cum_pos_found'] = (df['target'] * df['weight']).cumsum()\n",
    "        df['lorentz'] = df['cum_pos_found'] / total_pos\n",
    "        df['gini'] = (df['lorentz'] - df['random']) * df['weight']\n",
    "        return df['gini'].sum()\n",
    "\n",
    "    def normalized_weighted_gini(y_true: pd.DataFrame, y_pred: pd.DataFrame) -> float:\n",
    "        y_true_pred = y_true.rename(columns={'target': 'prediction'})\n",
    "        return weighted_gini(y_true, y_pred) / weighted_gini(y_true, y_true_pred)\n",
    "\n",
    "    g = normalized_weighted_gini(y_true, y_pred)\n",
    "    d = top_four_percent_captured(y_true, y_pred)\n",
    "\n",
    "    return 0.5 * (g + d)"
   ]
  },
  {
   "cell_type": "code",
   "execution_count": 84,
   "id": "ffef52b0",
   "metadata": {},
   "outputs": [],
   "source": [
    "params ={\n",
    "    'boosting_type':'gbdt',\n",
    "    'learning_rate':0.05,\n",
    "    'n_estimators':900,\n",
    "    'min_split_gain':0,\n",
    "    'min_child_weight':0.001,\n",
    "    'max_depth':5,\n",
    "    'num_leaves':31,\n",
    "}"
   ]
  },
  {
   "cell_type": "code",
   "execution_count": 87,
   "id": "4965d5ec",
   "metadata": {},
   "outputs": [
    {
     "name": "stdout",
     "output_type": "stream",
     "text": [
      "n_fold:0,score:0.7805655139002692\n",
      "n_fold:1,score:0.7820284991524781\n",
      "n_fold:2,score:0.7768113973877853\n",
      "n_fold:3,score:0.7799515878068597\n",
      "n_fold:4,score:0.7829003628749664\n"
     ]
    }
   ],
   "source": [
    "folds = KFold(n_splits=5, shuffle=True)\n",
    "for fold, (train_idx, val_idx) in enumerate(folds.split(X_train_or_test, Y)):\n",
    "    X_train, y_train = X_train_or_test.iloc[train_idx,:], Y[train_idx]\n",
    "    X_val, y_val = X_train_or_test.iloc[val_idx,:], Y[val_idx]\n",
    "    lgbm = LGBMR(**params,random_state=1).fit(X_train, y_train)\n",
    "    lgbm.booster_.save_model('LGBMmodel_{}.txt'.format(fold))\n",
    "    val_predict = lgbm.predict(X_val) \n",
    "    y_val1 = pd.DataFrame(y_val)\n",
    "    y_val1.columns = ['target']\n",
    "    val_predict1 = pd.DataFrame(val_predict)\n",
    "    val_predict1.columns = ['prediction']\n",
    "    s = amex_metric(y_val1,val_predict1)\n",
    "    print(\"n_fold:{},score:{}\".format(fold,s))"
   ]
  },
  {
   "cell_type": "code",
   "execution_count": 86,
   "id": "2017b7c9",
   "metadata": {},
   "outputs": [
    {
     "data": {
      "text/plain": [
       "0.7803468271096909"
      ]
     },
     "execution_count": 86,
     "metadata": {},
     "output_type": "execute_result"
    }
   ],
   "source": [
    "lgbm = LGBMR(**params,random_state=1).fit(X_train,y_train)\n",
    "test_predict = lgbm.predict(X_test) \n",
    "y_train_predict = lgbm.predict(X_train)\n",
    "y_test1 = pd.DataFrame(y_test)\n",
    "y_test1.columns = ['target']\n",
    "test_predict1 = pd.DataFrame(test_predict)\n",
    "test_predict1.columns = ['prediction']\n",
    "score = amex_metric(y_test1,test_predict1)\n",
    "score "
   ]
  },
  {
   "cell_type": "code",
   "execution_count": 53,
   "id": "d9272b13",
   "metadata": {},
   "outputs": [
    {
     "name": "stdout",
     "output_type": "stream",
     "text": [
      "i:5,j:100,score:0.7694091437921491\n",
      "i:5,j:200,score:0.7771272018492108\n",
      "i:5,j:300,score:0.7782785756001841\n",
      "i:5,j:400,score:0.7794050108505788\n",
      "i:5,j:500,score:0.7796143287571342\n",
      "i:5,j:600,score:0.7794641475046262\n",
      "i:5,j:700,score:0.7801042631409318\n",
      "i:5,j:800,score:0.7801961274903078\n",
      "i:5,j:900,score:0.780365176219121\n",
      "i:10,j:100,score:0.7758545946278159\n",
      "i:10,j:200,score:0.7766311573260153\n",
      "i:10,j:300,score:0.7770152373417021\n",
      "i:10,j:400,score:0.7766558400167396\n",
      "i:10,j:500,score:0.7765391860451791\n",
      "i:10,j:600,score:0.7758375611759212\n",
      "i:10,j:700,score:0.7754795203139124\n",
      "i:10,j:800,score:0.7753927281485813\n",
      "i:10,j:900,score:0.774736636903081\n",
      "i:15,j:100,score:0.7757086283126186\n",
      "i:15,j:200,score:0.7752713880621701\n",
      "i:15,j:300,score:0.7741363186217216\n",
      "i:15,j:400,score:0.7737342370209888\n",
      "i:15,j:500,score:0.7730426525154546\n",
      "i:15,j:600,score:0.7718286419974588\n",
      "i:15,j:700,score:0.7709401160254836\n",
      "i:15,j:800,score:0.770207848400712\n",
      "i:15,j:900,score:0.7691370763867331\n"
     ]
    }
   ],
   "source": [
    "for i in range(5,25,5):\n",
    "    for j in range(100,1500,100):\n",
    "        lgbm = LGBMR(learning_rate=i/100,n_estimators=j,random_state=1,).fit(X_train,y_train)\n",
    "        test_predict = lgbm.predict(X_test) \n",
    "        y_train_predict = lgbm.predict(X_train)\n",
    "        y_test1 = pd.DataFrame(y_test)\n",
    "        y_test1.columns = ['target']\n",
    "        test_predict1 = pd.DataFrame(test_predict)\n",
    "        test_predict1.columns = ['prediction']\n",
    "        score = amex_metric(y_test1,test_predict1)\n",
    "        print(\"i:{},j:{},score:{}\".format(i,j,score))\n"
   ]
  },
  {
   "cell_type": "code",
   "execution_count": 56,
   "id": "a198be8c",
   "metadata": {},
   "outputs": [
    {
     "name": "stdout",
     "output_type": "stream",
     "text": [
      "i:2,j:0,score:0.753476591987293\n",
      "i:3,j:0,score:0.7672161869723174\n",
      "i:4,j:0,score:0.7716975169725918\n",
      "i:5,j:0,score:0.7738666386133443\n",
      "i:6,j:0,score:0.7760349990825586\n",
      "i:7,j:0,score:0.7775382386851677\n",
      "i:8,j:0,score:0.7780849990554091\n",
      "i:9,j:0,score:0.778851524958281\n",
      "i:10,j:0,score:0.7772517692592368\n",
      "i:11,j:0,score:0.7790456296781914\n",
      "i:12,j:0,score:0.7790041324756087\n",
      "i:13,j:0,score:0.7793094752848573\n",
      "i:14,j:0,score:0.7796851012123621\n",
      "i:15,j:0,score:0.7795566222874099\n",
      "i:16,j:0,score:0.7801256149825556\n",
      "i:17,j:0,score:0.7802101690602387\n",
      "i:18,j:0,score:0.7798720100240613\n",
      "i:19,j:0,score:0.779478057380554\n",
      "i:20,j:0,score:0.779672124862352\n",
      "i:21,j:0,score:0.7796698712836733\n",
      "i:22,j:0,score:0.7803733271974241\n",
      "i:23,j:0,score:0.7795642971571879\n",
      "i:24,j:0,score:0.7807396583666696\n",
      "i:25,j:0,score:0.7796473958629344\n",
      "i:26,j:0,score:0.7796675107562564\n",
      "i:27,j:0,score:0.7796634394528625\n",
      "i:28,j:0,score:0.7787157081470407\n",
      "i:29,j:0,score:0.7791976166424368\n",
      "i:30,j:0,score:0.7794397730018843\n",
      "i:31,j:0,score:0.7803517794696455\n"
     ]
    }
   ],
   "source": [
    "for i in range(2,32,1):\n",
    "    for j in range(1):\n",
    "        lgbm = LGBMR(learning_rate=0.05,n_estimators=900,max_depth=5,num_leaves=i,random_state=1,).fit(X_train,y_train)#0.7754706768660901\n",
    "        test_predict = lgbm.predict(X_test) \n",
    "        y_train_predict = lgbm.predict(X_train)\n",
    "        y_test1 = pd.DataFrame(y_test)\n",
    "        y_test1.columns = ['target']\n",
    "        test_predict1 = pd.DataFrame(test_predict)\n",
    "        test_predict1.columns = ['prediction']\n",
    "        score = amex_metric(y_test1,test_predict1)\n",
    "        print(\"i:{},j:{},score:{}\".format(i,j,score))\n"
   ]
  },
  {
   "cell_type": "code",
   "execution_count": null,
   "id": "df20b509",
   "metadata": {},
   "outputs": [
    {
     "name": "stderr",
     "output_type": "stream",
     "text": [
      "/Users/caroline/opt/anaconda3/lib/python3.9/site-packages/xgboost/data.py:250: FutureWarning: pandas.Int64Index is deprecated and will be removed from pandas in a future version. Use pandas.Index with the appropriate dtype instead.\n",
      "  elif isinstance(data.columns, (pd.Int64Index, pd.RangeIndex)):\n"
     ]
    },
    {
     "data": {
      "text/plain": [
       "0.7680404821327709"
      ]
     },
     "execution_count": 65,
     "metadata": {},
     "output_type": "execute_result"
    }
   ],
   "source": [
    "xgbr =  XGBR(n_estimators=70,max_depth=5,random_state=123).fit(X_train,y_train)\n",
    "test_predict = xgbr.predict(X_test) \n",
    "y_train_predict = xgbr.predict(X_train)\n",
    "y_test1 = pd.DataFrame(y_test)\n",
    "y_test1.columns = ['target']\n",
    "test_predict1 = pd.DataFrame(test_predict)\n",
    "test_predict1.columns = ['prediction']\n",
    "score = amex_metric(y_test1,test_predict1)\n",
    "score"
   ]
  },
  {
   "cell_type": "code",
   "execution_count": 91,
   "id": "b3a64afa",
   "metadata": {},
   "outputs": [
    {
     "data": {
      "text/plain": [
       "0.7721908060178067"
      ]
     },
     "execution_count": 91,
     "metadata": {},
     "output_type": "execute_result"
    }
   ],
   "source": [
    "nn= MLPR(random_state=123).fit(X_train,y_train)\n",
    "test_predict = nn.predict(X_test) \n",
    "y_train_predict = nn.predict(X_train)\n",
    "y_test1 = pd.DataFrame(y_test)\n",
    "y_test1.columns = ['target']\n",
    "test_predict1 = pd.DataFrame(test_predict)\n",
    "test_predict1.columns = ['prediction']\n",
    "score = amex_metric(y_test1,test_predict1)\n",
    "score"
   ]
  },
  {
   "cell_type": "code",
   "execution_count": null,
   "id": "6b7640f6",
   "metadata": {},
   "outputs": [
    {
     "data": {
      "text/plain": [
       "<AxesSubplot:title={'center':'Feature importance'}, xlabel='Feature importance', ylabel='Features'>"
      ]
     },
     "execution_count": 84,
     "metadata": {},
     "output_type": "execute_result"
    },
    {
     "data": {
      "image/png": "[encoded data removed]",
      "text/plain": [
       "<Figure size 432x288 with 1 Axes>"
      ]
     },
     "metadata": {
      "needs_background": "light"
     },
     "output_type": "display_data"
    }
   ],
   "source": [
    "plot_importance(lgbm,max_num_features=20)"
   ]
  },
  {
   "cell_type": "code",
   "execution_count": 88,
   "id": "2b121a7f",
   "metadata": {},
   "outputs": [],
   "source": [
    "# lgbm = LGBMR(n_estimators=240,learning_rate=0.015,random_state=123)\n",
    "# xgbr =  XGBR(n_estimators=70,max_depth=5,random_state=123)\n",
    "# nn= MLPR()\n",
    "# scvr =  SCVR(regressors=[lgbm,xgbr], meta_regressor=nn,random_state=123).fit(X_train,y_train)\n",
    "# test_predict = scvr.predict(X_test)\n",
    "# y_train_predict = scvr.predict(X_train)\n",
    "# y_test1 = pd.DataFrame(y_test)\n",
    "# y_test1.columns = ['target']\n",
    "# test_predict1 = pd.DataFrame(test_predict)\n",
    "# test_predict1.columns = ['prediction']\n",
    "# score = amex_metric(y_test1,test_predict1)\n",
    "# score"
   ]
  },
  {
   "cell_type": "code",
   "execution_count": 89,
   "id": "1a3efd23",
   "metadata": {},
   "outputs": [],
   "source": [
    "for i in range(5):\n",
    "    bst = Booster(model_file=('LGBMmodel_{}.txt').format(i))\n",
    "    predictions = bst.predict(X_predict)\n",
    "    submission = pd.DataFrame({\"customer_ID\":X_predict.index,\"prediction\":predictions})\n",
    "    submission.to_csv('submission_{}.csv'.format(i), index=False)"
   ]
  },
  {
   "cell_type": "code",
   "execution_count": 48,
   "id": "ace47764",
   "metadata": {},
   "outputs": [],
   "source": [
    "prediction = lgbm.predict(X_predict)"
   ]
  },
  {
   "cell_type": "code",
   "execution_count": 49,
   "id": "e59784ce",
   "metadata": {},
   "outputs": [
    {
     "data": {
      "text/plain": [
       "0.0703961920242333"
      ]
     },
     "execution_count": 49,
     "metadata": {},
     "output_type": "execute_result"
    }
   ],
   "source": [
    "prediction.mean()"
   ]
  },
  {
   "cell_type": "code",
   "execution_count": 43,
   "id": "d4b9e1d1",
   "metadata": {},
   "outputs": [],
   "source": [
    "submission = pd.DataFrame({\"customer_ID\":X_predict.index,\"prediction\":prediction})"
   ]
  },
  {
   "cell_type": "code",
   "execution_count": 44,
   "id": "8529fb3a",
   "metadata": {},
   "outputs": [
    {
     "data": {
      "text/plain": [
       "<AxesSubplot:>"
      ]
     },
     "execution_count": 44,
     "metadata": {},
     "output_type": "execute_result"
    },
    {
     "data": {
      "image/png": "[encoded data removed]",
      "text/plain": [
       "<Figure size 432x288 with 1 Axes>"
      ]
     },
     "metadata": {
      "needs_background": "light"
     },
     "output_type": "display_data"
    }
   ],
   "source": [
    "submission.plot()"
   ]
  },
  {
   "cell_type": "code",
   "execution_count": 45,
   "id": "14b4bdc1",
   "metadata": {},
   "outputs": [
    {
     "data": {
      "text/html": [
       "<div>\n",
       "<style scoped>\n",
       "    .dataframe tbody tr th:only-of-type {\n",
       "        vertical-align: middle;\n",
       "    }\n",
       "\n",
       "    .dataframe tbody tr th {\n",
       "        vertical-align: top;\n",
       "    }\n",
       "\n",
       "    .dataframe thead th {\n",
       "        text-align: right;\n",
       "    }\n",
       "</style>\n",
       "<table border=\"1\" class=\"dataframe\">\n",
       "  <thead>\n",
       "    <tr style=\"text-align: right;\">\n",
       "      <th></th>\n",
       "      <th>customer_ID</th>\n",
       "      <th>prediction</th>\n",
       "    </tr>\n",
       "  </thead>\n",
       "  <tbody>\n",
       "    <tr>\n",
       "      <th>0</th>\n",
       "      <td>00000469ba478561f23a92a868bd366de6f6527a684c9a...</td>\n",
       "      <td>0.0</td>\n",
       "    </tr>\n",
       "    <tr>\n",
       "      <th>1</th>\n",
       "      <td>00001bf2e77ff879fab36aa4fac689b9ba411dae63ae39...</td>\n",
       "      <td>0.0</td>\n",
       "    </tr>\n",
       "    <tr>\n",
       "      <th>2</th>\n",
       "      <td>0000210045da4f81e5f122c6bde5c2a617d03eef67f82c...</td>\n",
       "      <td>0.0</td>\n",
       "    </tr>\n",
       "    <tr>\n",
       "      <th>3</th>\n",
       "      <td>00003b41e58ede33b8daf61ab56d9952f17c9ad1c3976c...</td>\n",
       "      <td>0.0</td>\n",
       "    </tr>\n",
       "    <tr>\n",
       "      <th>4</th>\n",
       "      <td>00004b22eaeeeb0ec976890c1d9bfc14fd9427e98c4ee9...</td>\n",
       "      <td>0.0</td>\n",
       "    </tr>\n",
       "  </tbody>\n",
       "</table>\n",
       "</div>"
      ],
      "text/plain": [
       "                                         customer_ID  prediction\n",
       "0  00000469ba478561f23a92a868bd366de6f6527a684c9a...         0.0\n",
       "1  00001bf2e77ff879fab36aa4fac689b9ba411dae63ae39...         0.0\n",
       "2  0000210045da4f81e5f122c6bde5c2a617d03eef67f82c...         0.0\n",
       "3  00003b41e58ede33b8daf61ab56d9952f17c9ad1c3976c...         0.0\n",
       "4  00004b22eaeeeb0ec976890c1d9bfc14fd9427e98c4ee9...         0.0"
      ]
     },
     "execution_count": 45,
     "metadata": {},
     "output_type": "execute_result"
    }
   ],
   "source": [
    "submission.head()"
   ]
  },
  {
   "cell_type": "code",
   "execution_count": 46,
   "id": "69f333e3",
   "metadata": {},
   "outputs": [],
   "source": [
    "submission.to_csv('submission.csv', index=False)"
   ]
  }
 ],
 "metadata": {
  "kernelspec": {
   "display_name": "Python 3 (ipykernel)",
   "language": "python",
   "name": "python3"
  },
  "language_info": {
   "codemirror_mode": {
    "name": "ipython",
    "version": 3
   },
   "file_extension": ".py",
   "mimetype": "text/x-python",
   "name": "python",
   "nbconvert_exporter": "python",
   "pygments_lexer": "ipython3",
   "version": "3.9.12"
  },
  "vscode": {
   "interpreter": {
    "hash": "f16b4f9c118091e521975b08f7e11c780453654917dc239e484e68cca92583fe"
   }
  }
 },
 "nbformat": 4,
 "nbformat_minor": 5
}
